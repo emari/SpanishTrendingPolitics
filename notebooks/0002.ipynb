{
 "metadata": {
  "name": "",
  "signature": "sha256:3b1fa596073888e29cdea73178f57064bce673cae508c7a54b33523571646f9d"
 },
 "nbformat": 3,
 "nbformat_minor": 0,
 "worksheets": [
  {
   "cells": [
    {
     "cell_type": "heading",
     "level": 2,
     "metadata": {},
     "source": [
      "Lectura de fitxers en format pdf"
     ]
    },
    {
     "cell_type": "markdown",
     "metadata": {},
     "source": [
      "M\u00e8tode per extreure el texte d'un fitxer en format pdf.\n",
      "\n",
      "(\u00c9s necessari instal.lar PDFMiner ( http://www.unixuser.org/~euske/python/pdfminer/ ). Es pot instal.lar desde la linea de comandes executant: pip install pdfminer )"
     ]
    },
    {
     "cell_type": "code",
     "collapsed": false,
     "input": [
      "# http://stackoverflow.com/questions/26494211/extracting-text-from-a-pdf-file-using-pdfminer-in-python\n",
      "\n",
      "from pdfminer.pdfinterp import PDFResourceManager, PDFPageInterpreter\n",
      "from pdfminer.converter import TextConverter\n",
      "from pdfminer.layout import LAParams\n",
      "from pdfminer.pdfpage import PDFPage\n",
      "from cStringIO import StringIO\n",
      "\n",
      "def convert_pdf_to_txt(path):\n",
      "    rsrcmgr = PDFResourceManager()\n",
      "    retstr = StringIO()\n",
      "    codec = 'utf-8'\n",
      "    laparams = LAParams()\n",
      "    device = TextConverter(rsrcmgr, retstr, codec=codec, laparams=laparams)\n",
      "    fp = file(path, 'rb')\n",
      "    interpreter = PDFPageInterpreter(rsrcmgr, device)\n",
      "    password = \"\"\n",
      "    maxpages = 0\n",
      "    caching = True\n",
      "    pagenos=set()\n",
      "\n",
      "    for page in PDFPage.get_pages(fp, pagenos, maxpages=maxpages, password=password,caching=caching, check_extractable=True):\n",
      "        interpreter.process_page(page)\n",
      "\n",
      "    text = retstr.getvalue()\n",
      "\n",
      "    fp.close()\n",
      "    device.close()\n",
      "    retstr.close()\n",
      "    \n",
      "    # http://stackoverflow.com/questions/25315566/unicodedecodeerror-in-nltks-word-tokenize-despite-i-forced-the-encoding\n",
      "    text = text.decode('utf-8').lower()\n",
      "    return text"
     ],
     "language": "python",
     "metadata": {},
     "outputs": [],
     "prompt_number": 1
    },
    {
     "cell_type": "heading",
     "level": 4,
     "metadata": {},
     "source": [
      "Extracci\u00f3 del textes dels discursos"
     ]
    },
    {
     "cell_type": "markdown",
     "metadata": {},
     "source": [
      "\"Discurso de Crist\u00f3bal Montoro en el Debate de los Presupuestos Generales del Estado 2015, (Madrid, 22/10/2014)\"\n",
      "(descarregat de la web del Congreso: http://www.congreso.es/public_oficiales/L10/CONG/DS/PL/DSCD-10-PL-232.PDF ).\n",
      "\n",
      "\"Discurso de Pedro S\u00e1nchez en el Debate de los Presupuestos Generales del Estado 2015, (Madrid, 22/10/2014)\"\n",
      "(descarregat de la web de PSOE: http://www.psoe.es/source-media/000000607500/000000607955.pdf )."
     ]
    },
    {
     "cell_type": "code",
     "collapsed": false,
     "input": [
      "text_pp = convert_pdf_to_txt(\"../data/pp/DSCD-10-PL-232_[3-11].pdf\")\n",
      "text_psoe = convert_pdf_to_txt(\"../data/psoe/000000607955.pdf\")"
     ],
     "language": "python",
     "metadata": {},
     "outputs": [],
     "prompt_number": 2
    },
    {
     "cell_type": "heading",
     "level": 2,
     "metadata": {},
     "source": [
      "An\u00e0lisi del text dels discursos"
     ]
    },
    {
     "cell_type": "heading",
     "level": 3,
     "metadata": {},
     "source": [
      "M\u00e8todes per netejar el texte: eliminar paraules i signes que no s\u00f3n rellevants."
     ]
    },
    {
     "cell_type": "code",
     "collapsed": false,
     "input": [
      "import re\n",
      "import string\n",
      "from nltk.tokenize import word_tokenize\n",
      "\n",
      "# M\u00e8tode per eliminar signes de puntuaci\u00f3\n",
      "def tokenized_doc_no_punctuation(tokenized_doc):\n",
      "    \n",
      "    regex = re.compile('[%s]' % re.escape(string.punctuation)) \n",
      "\n",
      "    tokenized_words_no_punctuation = []\n",
      "\n",
      "    for token in tokenized_doc: \n",
      "        new_token = regex.sub(u'', token)\n",
      "        if not new_token == u'':\n",
      "            tokenized_words_no_punctuation.append(new_token)\n",
      "\n",
      "    return tokenized_words_no_punctuation\n",
      "\n",
      "# M\u00e8tode per eliminar xifres num\u00e8riques\n",
      "def tokenized_doc_no_numbers(tokenized_doc):\n",
      "    \n",
      "    regex = re.compile(re.compile(r'[()|0-9]')) \n",
      "\n",
      "    tokenized_words_no_numbers = []\n",
      "\n",
      "    for token in tokenized_doc: \n",
      "        new_token = regex.sub(u'', token)\n",
      "        if not new_token == u'':\n",
      "            tokenized_words_no_numbers.append(new_token)\n",
      "\n",
      "    return tokenized_words_no_numbers"
     ],
     "language": "python",
     "metadata": {},
     "outputs": [],
     "prompt_number": 3
    },
    {
     "cell_type": "code",
     "collapsed": false,
     "input": [
      "# Conjunt de paraules (tokens) del text\n",
      "tokenized_words_pp = word_tokenize(text_pp)\n",
      "tokenized_words_psoe = word_tokenize(text_psoe)"
     ],
     "language": "python",
     "metadata": {},
     "outputs": [],
     "prompt_number": 4
    },
    {
     "cell_type": "code",
     "collapsed": false,
     "input": [
      "# Eliminar els signes de puntuaci\u00f3 i les xifres num\u00e8riques\n",
      "tokenized_words_no_punctuation_pp = tokenized_doc_no_punctuation(tokenized_words_pp)\n",
      "tokenized_words_no_numbers_pp = tokenized_doc_no_numbers(tokenized_words_no_punctuation_pp)\n",
      "\n",
      "tokenized_words_no_punctuation_psoe = tokenized_doc_no_punctuation(tokenized_words_psoe)\n",
      "tokenized_words_no_numbers_psoe = tokenized_doc_no_numbers(tokenized_words_no_punctuation_psoe)"
     ],
     "language": "python",
     "metadata": {},
     "outputs": [],
     "prompt_number": 5
    },
    {
     "cell_type": "heading",
     "level": 3,
     "metadata": {},
     "source": [
      "Eliminaci\u00f3 de paraules \"comunes\""
     ]
    },
    {
     "cell_type": "markdown",
     "metadata": {},
     "source": [
      "- Stopwords en espanyol\n",
      "\n",
      "- El documents utilizats contenen cap\u00e7aleres i peus de p\u00e0gina (a cada p\u00e0gina) amb el seg\u00fcent textes:\n",
      "\n",
      "        \"DIARIO DE SESIONES DEL CONGRESO DE LOS DIPUTADOS PLENO Y DIPUTACI\u00d3N PERMANENTE\n",
      "        N\u00fam. 232 21 de octubre de 2014\"\n",
      "\n",
      "        \"OFICINA DE PRENSA FEDERAL\n",
      "        C/ Ferraz, 70. 28008 Madrid. Tel\u00e9fonos: 91 582 04 52 / 91 582 03 94. Fax: 91 582 04 22.\n",
      "        Correo: ofiprensa@psoe.es /// www.psoe.es /// www.psoetv.es /// conferenciapolitica.psoe.es\"\n",
      "\n",
      "  TODO: Com detectar paraules o par\u00e0grafs com aquest en els textes i eliminar aquestes repeticions?"
     ]
    },
    {
     "cell_type": "code",
     "collapsed": false,
     "input": [
      "from nltk.corpus import stopwords\n",
      "\n",
      "# M\u00e8tode per eliminar les paraules que pertanyen a un conjunt de paraules donat (custom_set_of_words) \n",
      "def remove_custom_set_of_words(tokenized_doc, custom_set_of_words):\n",
      "    return [ word for word in tokenized_doc if word not in custom_set_of_words ]"
     ],
     "language": "python",
     "metadata": {},
     "outputs": [],
     "prompt_number": 6
    },
    {
     "cell_type": "heading",
     "level": 4,
     "metadata": {},
     "source": [
      "Eliminaci\u00f3 de stopwords en espanyol"
     ]
    },
    {
     "cell_type": "code",
     "collapsed": false,
     "input": [
      "# Conjunt de paraules stopwords de l'espanyol del paquet nltk\n",
      "print stopwords.words('spanish')"
     ],
     "language": "python",
     "metadata": {},
     "outputs": [
      {
       "output_type": "stream",
       "stream": "stdout",
       "text": [
        "[u'de', u'la', u'que', u'el', u'en', u'y', u'a', u'los', u'del', u'se', u'las', u'por', u'un', u'para', u'con', u'no', u'una', u'su', u'al', u'lo', u'como', u'm\\xe1s', u'pero', u'sus', u'le', u'ya', u'o', u'este', u's\\xed', u'porque', u'esta', u'entre', u'cuando', u'muy', u'sin', u'sobre', u'tambi\\xe9n', u'me', u'hasta', u'hay', u'donde', u'quien', u'desde', u'todo', u'nos', u'durante', u'todos', u'uno', u'les', u'ni', u'contra', u'otros', u'ese', u'eso', u'ante', u'ellos', u'e', u'esto', u'm\\xed', u'antes', u'algunos', u'qu\\xe9', u'unos', u'yo', u'otro', u'otras', u'otra', u'\\xe9l', u'tanto', u'esa', u'estos', u'mucho', u'quienes', u'nada', u'muchos', u'cual', u'poco', u'ella', u'estar', u'estas', u'algunas', u'algo', u'nosotros', u'mi', u'mis', u't\\xfa', u'te', u'ti', u'tu', u'tus', u'ellas', u'nosotras', u'vosostros', u'vosostras', u'os', u'm\\xedo', u'm\\xeda', u'm\\xedos', u'm\\xedas', u'tuyo', u'tuya', u'tuyos', u'tuyas', u'suyo', u'suya', u'suyos', u'suyas', u'nuestro', u'nuestra', u'nuestros', u'nuestras', u'vuestro', u'vuestra', u'vuestros', u'vuestras', u'esos', u'esas', u'estoy', u'est\\xe1s', u'est\\xe1', u'estamos', u'est\\xe1is', u'est\\xe1n', u'est\\xe9', u'est\\xe9s', u'estemos', u'est\\xe9is', u'est\\xe9n', u'estar\\xe9', u'estar\\xe1s', u'estar\\xe1', u'estaremos', u'estar\\xe9is', u'estar\\xe1n', u'estar\\xeda', u'estar\\xedas', u'estar\\xedamos', u'estar\\xedais', u'estar\\xedan', u'estaba', u'estabas', u'est\\xe1bamos', u'estabais', u'estaban', u'estuve', u'estuviste', u'estuvo', u'estuvimos', u'estuvisteis', u'estuvieron', u'estuviera', u'estuvieras', u'estuvi\\xe9ramos', u'estuvierais', u'estuvieran', u'estuviese', u'estuvieses', u'estuvi\\xe9semos', u'estuvieseis', u'estuviesen', u'estando', u'estado', u'estada', u'estados', u'estadas', u'estad', u'he', u'has', u'ha', u'hemos', u'hab\\xe9is', u'han', u'haya', u'hayas', u'hayamos', u'hay\\xe1is', u'hayan', u'habr\\xe9', u'habr\\xe1s', u'habr\\xe1', u'habremos', u'habr\\xe9is', u'habr\\xe1n', u'habr\\xeda', u'habr\\xedas', u'habr\\xedamos', u'habr\\xedais', u'habr\\xedan', u'hab\\xeda', u'hab\\xedas', u'hab\\xedamos', u'hab\\xedais', u'hab\\xedan', u'hube', u'hubiste', u'hubo', u'hubimos', u'hubisteis', u'hubieron', u'hubiera', u'hubieras', u'hubi\\xe9ramos', u'hubierais', u'hubieran', u'hubiese', u'hubieses', u'hubi\\xe9semos', u'hubieseis', u'hubiesen', u'habiendo', u'habido', u'habida', u'habidos', u'habidas', u'soy', u'eres', u'es', u'somos', u'sois', u'son', u'sea', u'seas', u'seamos', u'se\\xe1is', u'sean', u'ser\\xe9', u'ser\\xe1s', u'ser\\xe1', u'seremos', u'ser\\xe9is', u'ser\\xe1n', u'ser\\xeda', u'ser\\xedas', u'ser\\xedamos', u'ser\\xedais', u'ser\\xedan', u'era', u'eras', u'\\xe9ramos', u'erais', u'eran', u'fui', u'fuiste', u'fue', u'fuimos', u'fuisteis', u'fueron', u'fuera', u'fueras', u'fu\\xe9ramos', u'fuerais', u'fueran', u'fuese', u'fueses', u'fu\\xe9semos', u'fueseis', u'fuesen', u'sintiendo', u'sentido', u'sentida', u'sentidos', u'sentidas', u'siente', u'sentid', u'tengo', u'tienes', u'tiene', u'tenemos', u'ten\\xe9is', u'tienen', u'tenga', u'tengas', u'tengamos', u'teng\\xe1is', u'tengan', u'tendr\\xe9', u'tendr\\xe1s', u'tendr\\xe1', u'tendremos', u'tendr\\xe9is', u'tendr\\xe1n', u'tendr\\xeda', u'tendr\\xedas', u'tendr\\xedamos', u'tendr\\xedais', u'tendr\\xedan', u'ten\\xeda', u'ten\\xedas', u'ten\\xedamos', u'ten\\xedais', u'ten\\xedan', u'tuve', u'tuviste', u'tuvo', u'tuvimos', u'tuvisteis', u'tuvieron', u'tuviera', u'tuvieras', u'tuvi\\xe9ramos', u'tuvierais', u'tuvieran', u'tuviese', u'tuvieses', u'tuvi\\xe9semos', u'tuvieseis', u'tuviesen', u'teniendo', u'tenido', u'tenida', u'tenidos', u'tenidas', u'tened']\n"
       ]
      }
     ],
     "prompt_number": 7
    },
    {
     "cell_type": "code",
     "collapsed": false,
     "input": [
      "tokenized_words_no_stopwords_pp = remove_custom_set_of_words(tokenized_words_no_numbers_pp, stopwords.words('spanish'))\n",
      "tokenized_words_no_stopwords_psoe = remove_custom_set_of_words(tokenized_words_no_numbers_psoe, stopwords.words('spanish'))"
     ],
     "language": "python",
     "metadata": {},
     "outputs": [],
     "prompt_number": 8
    },
    {
     "cell_type": "heading",
     "level": 4,
     "metadata": {},
     "source": [
      "Eliminaci\u00f3 d'altres paraules no significatives"
     ]
    },
    {
     "cell_type": "markdown",
     "metadata": {},
     "source": [
      "Aquesta part \u00e9s un exemple simple (handmade) d'eliminaci\u00f3 d'algunes paraules no significatives.\n",
      "Veient els resultats posteriors em sorgeix la necessitat (i el dubte) de trobar un procediment o eines com la librer\u00eda nltk per eliminar paraules (i potser expressions) com: \"si\" (conjunci\u00f3), \"toda\", \"sido\", ..."
     ]
    },
    {
     "cell_type": "code",
     "collapsed": false,
     "input": [
      "# Conjunt de paraules del text del PP:\n",
      "# custom_set_of_words = ['diario', 'sesiones', 'congreso', 'diputados', 'pleno', 'diputaci\u00f3n', 'permanente', 'c', 'd']\n",
      "custom_set_of_words_pp = ['diario', 'sesiones', 'congreso', 'diputados', 'pleno', u'diputaci\\xf3n', 'permanente', 'c', 'd']\n",
      "tokenized_words_final_pp = remove_custom_set_of_words(tokenized_words_no_stopwords_pp, custom_set_of_words_pp)\n",
      "\n",
      "# Conjunt de paraules del text del PSOE:\n",
      "# custom_set_of_words = ['oficina', 'prensa', 'federal', 'ferraz', 'madrid', 'tel\u00e9fonos', 'fax', 'correo', 'm', 'c', 'w', 'psoetves', 'inform', 'aci\u00f3n', 'conferenciapoliticapsoees', 'psoees', 'adrid', 'ofiprensa', 'si', 'va', 'ello']\n",
      "custom_set_of_words_psoe = ['oficina', 'prensa', 'federal', 'ferraz', 'madrid', u'tel\\xe9fonos', 'fax', 'correo','m', 'c', 'w', 'psoetves', 'inform', u'aci\\xf3n', 'conferenciapoliticapsoees', 'psoees', 'adrid', 'ofiprensa', 'si', 'va', 'ello']\n",
      "tokenized_words_final_psoe = remove_custom_set_of_words(tokenized_words_no_stopwords_psoe, custom_set_of_words_psoe)"
     ],
     "language": "python",
     "metadata": {},
     "outputs": [],
     "prompt_number": 9
    },
    {
     "cell_type": "heading",
     "level": 2,
     "metadata": {},
     "source": [
      "Freq\u00fc\u00e8ncies de les paraules m\u00e9s significatives"
     ]
    },
    {
     "cell_type": "code",
     "collapsed": false,
     "input": [
      "from collections import Counter\n",
      "\n",
      "# M\u00e8tode que retorna un Counter amb la freq\u00fc\u00e8ncia de les paraules d'un array de paraules\n",
      "def word_freq( tokenized_doc ):\n",
      "    \n",
      "    tf = Counter()\n",
      "    for word in tokenized_doc:\n",
      "        tf[word] +=1\n",
      "    return tf"
     ],
     "language": "python",
     "metadata": {},
     "outputs": [],
     "prompt_number": 10
    },
    {
     "cell_type": "code",
     "collapsed": false,
     "input": [
      "wordCounter_pp = word_freq(tokenized_words_final_pp)\n",
      "wordCounter_psoe = word_freq(tokenized_words_final_psoe)"
     ],
     "language": "python",
     "metadata": {},
     "outputs": [],
     "prompt_number": 11
    },
    {
     "cell_type": "heading",
     "level": 4,
     "metadata": {},
     "source": [
      "Seleccionem les 20 paraules amb m\u00e9s ocurr\u00e8ncies en els discursos"
     ]
    },
    {
     "cell_type": "code",
     "collapsed": false,
     "input": [
      "diccionari_final_pp = wordCounter_pp.most_common(20)\n",
      "print \"diccionari_final_pp:\"\n",
      "print diccionari_final_pp\n",
      "\n",
      "diccionari_final_psoe = wordCounter_psoe.most_common(20)\n",
      "print \"\\ndiccionari_final_psoe:\"\n",
      "print diccionari_final_psoe"
     ],
     "language": "python",
     "metadata": {},
     "outputs": [
      {
       "output_type": "stream",
       "stream": "stdout",
       "text": [
        "diccionari_final_pp:\n",
        "[(u'presupuestos', 60), (u'a\\xf1o', 43), (u'espa\\xf1a', 38), (u'gobierno', 32), (u'empleo', 32), (u'crecimiento', 30), (u'a\\xf1os', 29), (u'econ\\xf3mica', 28), (u'p\\xfablica', 24), (u'pa\\xeds', 23), (u'millones', 23), (u'crisis', 21), (u'econ\\xf3mico', 21), (u'pol\\xedtica', 20), (u'ahora', 19), (u'creaci\\xf3n', 18), (u'p\\xfablicas', 18), (u'euros', 17), (u'hoy', 16), (u'hacer', 16)]\n",
        "\n",
        "diccionari_final_psoe:\n",
        "[(u'se\\xf1or', 53), (u'ustedes', 45), (u'montoro', 41), (u'pol\\xedtica', 28), (u'usted', 23), (u'espa\\xf1a', 23), (u'gobierno', 20), (u'pa\\xeds', 17), (u'a\\xf1os', 16), (u'econ\\xf3mica', 14), (u'millones', 14), (u'problema', 14), (u'presupuestos', 12), (u'rajoy', 12), (u'desigualdad', 10), (u'social', 10), (u'crisis', 10), (u'familias', 10), (u'fiscal', 10), (u'menos', 9)]\n"
       ]
      }
     ],
     "prompt_number": 12
    },
    {
     "cell_type": "code",
     "collapsed": false,
     "input": [
      "print \"Llistat de les paraules amb m\u00e9s ocurr\u00e8ncies al discurs del PP:\\n\"\n",
      "for word in diccionari_final_pp:\n",
      "    print word[0], \": %d\" % word[1]\n",
      "    \n",
      "print \"\\nLlistat de les paraules amb m\u00e9s ocurr\u00e8ncies al discurs del PSOE:\\n\"\n",
      "for word in diccionari_final_psoe:\n",
      "    print word[0], \": %d\" % word[1]"
     ],
     "language": "python",
     "metadata": {},
     "outputs": [
      {
       "output_type": "stream",
       "stream": "stdout",
       "text": [
        "Llistat de les paraules amb m\u00e9s ocurr\u00e8ncies al discurs del PP:\n",
        "\n",
        "presupuestos : 60\n",
        "a\u00f1o : 43\n",
        "espa\u00f1a : 38\n",
        "gobierno : 32\n",
        "empleo : 32\n",
        "crecimiento : 30\n",
        "a\u00f1os : 29\n",
        "econ\u00f3mica : 28\n",
        "p\u00fablica : 24\n",
        "pa\u00eds : 23\n",
        "millones : 23\n",
        "crisis : 21\n",
        "econ\u00f3mico : 21\n",
        "pol\u00edtica : 20\n",
        "ahora : 19\n",
        "creaci\u00f3n : 18\n",
        "p\u00fablicas : 18\n",
        "euros : 17\n",
        "hoy : 16\n",
        "hacer : 16\n",
        "\n",
        "Llistat de les paraules amb m\u00e9s ocurr\u00e8ncies al discurs del PSOE:\n",
        "\n",
        "se\u00f1or : 53\n",
        "ustedes : 45\n",
        "montoro : 41\n",
        "pol\u00edtica : 28\n",
        "usted : 23\n",
        "espa\u00f1a : 23\n",
        "gobierno : 20\n",
        "pa\u00eds : 17\n",
        "a\u00f1os : 16\n",
        "econ\u00f3mica : 14\n",
        "millones : 14\n",
        "problema : 14\n",
        "presupuestos : 12\n",
        "rajoy : 12\n",
        "desigualdad : 10\n",
        "social : 10\n",
        "crisis : 10\n",
        "familias : 10\n",
        "fiscal : 10\n",
        "menos : 9\n"
       ]
      }
     ],
     "prompt_number": 13
    },
    {
     "cell_type": "heading",
     "level": 3,
     "metadata": {},
     "source": [
      "Exportar un fitxer json amb els resultats obtinguts "
     ]
    },
    {
     "cell_type": "code",
     "collapsed": false,
     "input": [
      "import json\n",
      "\n",
      "# PP\n",
      "wordCounterJson_pp = json.dumps(diccionari_final_pp)\n",
      "print wordCounterJson_pp\n",
      "\n",
      "with open('diccionari_final_pp.json', 'w') as outfile:\n",
      "    json.dump(diccionari_final_pp, outfile)\n",
      "    \n",
      "# PSOE\n",
      "wordCounterJson_psoe = json.dumps(diccionari_final_psoe)\n",
      "print wordCounterJson_psoe\n",
      "\n",
      "with open('diccionari_final_psoe.json', 'w') as outfile:\n",
      "    json.dump(diccionari_final_psoe, outfile)"
     ],
     "language": "python",
     "metadata": {},
     "outputs": [
      {
       "output_type": "stream",
       "stream": "stdout",
       "text": [
        "[[\"presupuestos\", 60], [\"a\\u00f1o\", 43], [\"espa\\u00f1a\", 38], [\"gobierno\", 32], [\"empleo\", 32], [\"crecimiento\", 30], [\"a\\u00f1os\", 29], [\"econ\\u00f3mica\", 28], [\"p\\u00fablica\", 24], [\"pa\\u00eds\", 23], [\"millones\", 23], [\"crisis\", 21], [\"econ\\u00f3mico\", 21], [\"pol\\u00edtica\", 20], [\"ahora\", 19], [\"creaci\\u00f3n\", 18], [\"p\\u00fablicas\", 18], [\"euros\", 17], [\"hoy\", 16], [\"hacer\", 16]]\n",
        "[[\"se\\u00f1or\", 53], [\"ustedes\", 45], [\"montoro\", 41], [\"pol\\u00edtica\", 28], [\"usted\", 23], [\"espa\\u00f1a\", 23], [\"gobierno\", 20], [\"pa\\u00eds\", 17], [\"a\\u00f1os\", 16], [\"econ\\u00f3mica\", 14], [\"millones\", 14], [\"problema\", 14], [\"presupuestos\", 12], [\"rajoy\", 12], [\"desigualdad\", 10], [\"social\", 10], [\"crisis\", 10], [\"familias\", 10], [\"fiscal\", 10], [\"menos\", 9]]\n"
       ]
      }
     ],
     "prompt_number": 14
    },
    {
     "cell_type": "heading",
     "level": 2,
     "metadata": {},
     "source": [
      "Representaci\u00f3 dels resultats amb D3"
     ]
    },
    {
     "cell_type": "markdown",
     "metadata": {},
     "source": [
      "- Bar chart que carrega un fitxer json (a partir d'un exemple de la classe de visualitzaci\u00f3)"
     ]
    },
    {
     "cell_type": "code",
     "collapsed": false,
     "input": [
      "%%html\n",
      "<style>\n",
      ".pp_chart div {\n",
      "  font: 10px sans-serif;\n",
      "  background-color: steelblue;\n",
      "  text-align: right;\n",
      "  padding: 3px;\n",
      "  margin: 1px;\n",
      "  color: white;\n",
      "}\n",
      "\n",
      ".psoe_chart div {\n",
      "  font: 10px sans-serif;\n",
      "  background-color: red;\n",
      "  text-align: right;\n",
      "  padding: 3px;\n",
      "  margin: 1px;\n",
      "  color: white;\n",
      "}\n",
      "</style>\n",
      "\n",
      "<div id=\"my_pp_chart\" class=\"pp_chart\"></div>\n",
      "<div id=\"my_psoe_chart\" class=\"psoe_chart\"></div>"
     ],
     "language": "python",
     "metadata": {},
     "outputs": [
      {
       "html": [
        "<style>\n",
        ".pp_chart div {\n",
        "  font: 10px sans-serif;\n",
        "  background-color: steelblue;\n",
        "  text-align: right;\n",
        "  padding: 3px;\n",
        "  margin: 1px;\n",
        "  color: white;\n",
        "}\n",
        "\n",
        ".psoe_chart div {\n",
        "  font: 10px sans-serif;\n",
        "  background-color: red;\n",
        "  text-align: right;\n",
        "  padding: 3px;\n",
        "  margin: 1px;\n",
        "  color: white;\n",
        "}\n",
        "</style>\n",
        "\n",
        "<div id=\"my_pp_chart\" class=\"pp_chart\"></div>\n",
        "<div id=\"my_psoe_chart\" class=\"psoe_chart\"></div>"
       ],
       "metadata": {},
       "output_type": "display_data",
       "text": [
        "<IPython.core.display.HTML at 0x3ca8470>"
       ]
      }
     ],
     "prompt_number": 15
    },
    {
     "cell_type": "code",
     "collapsed": false,
     "input": [
      "%%javascript\n",
      "    // We load the d3.js library from the Web.\n",
      "    require.config({paths: {d3: \"http://d3js.org/d3.v3.min\"}});\n",
      "    require([\"d3\"], function(d3) {\n",
      "    \n",
      "    var pp_div = d3.select(\"#my_pp_chart\");\n",
      "        \n",
      "    d3.json(\"diccionari_final_pp.json\", function(data) {\n",
      "        \n",
      "        pp_div.selectAll(\"div\")\n",
      "            .data(data)\n",
      "            .enter().append(\"div\")\n",
      "            .style(\"width\", function(d) { return d[1]*10 + \"px\"; })\n",
      "            .text(function(d) { return d[0] + \" (\" + d[1] + \")\"; });\n",
      "    });\n",
      "        \n",
      "    var psoe_div = d3.select(\"#my_psoe_chart\");\n",
      "        \n",
      "    d3.json(\"diccionari_final_psoe.json\", function(data) {\n",
      "        \n",
      "        psoe_div.selectAll(\"div\")\n",
      "            .data(data)\n",
      "            .enter().append(\"div\")\n",
      "            .style(\"width\", function(d) { return d[1]*10 + \"px\"; })\n",
      "            .text(function(d) { return d[0] + \" (\" + d[1] + \")\"; });\n",
      "    });\n",
      "});"
     ],
     "language": "python",
     "metadata": {},
     "outputs": [
      {
       "javascript": [
        "    // We load the d3.js library from the Web.\n",
        "    require.config({paths: {d3: \"http://d3js.org/d3.v3.min\"}});\n",
        "    require([\"d3\"], function(d3) {\n",
        "    \n",
        "    var pp_div = d3.select(\"#my_pp_chart\");\n",
        "        \n",
        "    d3.json(\"diccionari_final_pp.json\", function(data) {\n",
        "        \n",
        "        pp_div.selectAll(\"div\")\n",
        "            .data(data)\n",
        "            .enter().append(\"div\")\n",
        "            .style(\"width\", function(d) { return d[1]*10 + \"px\"; })\n",
        "            .text(function(d) { return d[0] + \" (\" + d[1] + \")\"; });\n",
        "    });\n",
        "        \n",
        "    var psoe_div = d3.select(\"#my_psoe_chart\");\n",
        "        \n",
        "    d3.json(\"diccionari_final_psoe.json\", function(data) {\n",
        "        \n",
        "        psoe_div.selectAll(\"div\")\n",
        "            .data(data)\n",
        "            .enter().append(\"div\")\n",
        "            .style(\"width\", function(d) { return d[1]*10 + \"px\"; })\n",
        "            .text(function(d) { return d[0] + \" (\" + d[1] + \")\"; });\n",
        "    });\n",
        "});"
       ],
       "metadata": {},
       "output_type": "display_data",
       "text": [
        "<IPython.core.display.Javascript at 0x3ca8c18>"
       ]
      }
     ],
     "prompt_number": 16
    },
    {
     "cell_type": "markdown",
     "metadata": {},
     "source": [
      "- Un altre exemple de Bar Chart ( a partir de https://gist.github.com/tristanwietsma/6047126 )\n",
      "\n",
      "    [ En construcci\u00f3     :-)     ]"
     ]
    },
    {
     "cell_type": "code",
     "collapsed": false,
     "input": [
      "%%html\n",
      "<style>\n",
      "    text {\n",
      "        font: 8px; sans-serif;\n",
      "    }\n",
      "\n",
      "    .bar { fill: steelblue; }\n",
      "</style>\n",
      "\n",
      "<div id=\"my_chart2\"></div>"
     ],
     "language": "python",
     "metadata": {},
     "outputs": [
      {
       "html": [
        "<style>\n",
        "    text {\n",
        "        font: 8px; sans-serif;\n",
        "    }\n",
        "\n",
        "    .bar { fill: steelblue; }\n",
        "</style>\n",
        "\n",
        "<div id=\"my_chart2\"></div>"
       ],
       "metadata": {},
       "output_type": "display_data",
       "text": [
        "<IPython.core.display.HTML at 0x3ca86d8>"
       ]
      }
     ],
     "prompt_number": 17
    },
    {
     "cell_type": "code",
     "collapsed": false,
     "input": [
      "%%javascript\n",
      "    // We load the d3.js library from the Web.\n",
      "    require.config({paths: {d3: \"http://d3js.org/d3.v3.min\"}});\n",
      "    require([\"d3\"], function(d3) {\n",
      " \n",
      "        var barChartDataSet = [];\n",
      "        \n",
      "        var w = 550,\n",
      "        h = 900;        \n",
      "        \n",
      "        var svg = d3.select(\"#my_chart2\")\n",
      "            .append(\"svg\")\n",
      "            .attr(\"width\", w*2)\n",
      "            .attr(\"height\", h / 2);\n",
      "    \n",
      "        d3.json(\"diccionari_final_pp.json\", function(data) {\n",
      "            processData(data, \"PP\", barChartDataSet);\n",
      "        });\n",
      "        \n",
      "        d3.json(\"diccionari_final_psoe.json\", function(data) {\n",
      "            processData(data, \"PSOE\", barChartDataSet);\n",
      "            barChart(barChartDataSet);\n",
      "        });\n",
      "        \n",
      "        function barChart(data) {            \n",
      "    \n",
      "            var max_n = 0;\n",
      "            for (var i = 0; i < data.length; i++) {\n",
      "                max_n = Math.max(data[i][1], max_n);\n",
      "            }\n",
      "        \n",
      "            var dx = w / max_n;\n",
      "            var sp = 5;\n",
      "            var dy = h / data.length - sp;\n",
      "    \n",
      "            // bars\n",
      "            var bars = svg.selectAll(\".bar\")\n",
      "                .data(data)\n",
      "                .enter()\n",
      "                .append(\"rect\")\n",
      "                .attr(\"class\", function(d, i) {return \"bar\" /* \"bar \" + d[0]; */ })\n",
      "                .attr(\"x\", function(d, i) { if (d[2]==\"PP\") return 0; else return w;})\n",
      "                .attr(\"y\", function(d, i) { if (d[2]==\"PP\") return (dy+sp)*i; else return (dy+sp)*(i-20); })\n",
      "                .attr(\"width\", function(d, i) {return dx*d[1];})\n",
      "                .attr(\"height\", dy)\n",
      "                .style(\"fill\", function(d,i) { if (d[2]==\"PP\") return \"steelblue\"; else return \"red\" });\n",
      "    \n",
      "            // labels\n",
      "            var text = svg.selectAll(\"text\")\n",
      "                .data(data)\n",
      "                .enter()\n",
      "                .append(\"text\")\n",
      "                .attr(\"class\", function(d, i) {return \"label \" + d[0];})\n",
      "                .attr(\"x\", function(d, i) { if (d[2]==\"PP\") return sp; else return sp+w;})\n",
      "                .attr(\"y\", function(d, i) { if (d[2]==\"PP\") return (dy+sp)*i+(2/3)*dy; else return (dy+sp)*(i-20)+(2/3)*dy;})\n",
      "                .attr(\"font-size\", dy + \"px\")\n",
      "                .style(\"font-weight\", \"bold\")\n",
      "                .text( function(d) {return d[0] + \" (\" + (100*d[1]).toFixed(2)  + \"%)\";});\n",
      "        }\n",
      "        \n",
      "    function processData(data, package_name, barChartDataSet) { \n",
      "        \n",
      "        var total = 0;\n",
      "        for (var i = 0; i < data.length; i++) {\n",
      "            total = total + data[i][1];\n",
      "        }\n",
      "\n",
      "        for (var i = 0; i < data.length; i++) { \n",
      "            barChartDataSet.push([data[i][0], data[i][1]/total, package_name]);\n",
      "        }\n",
      "    }        \n",
      "});"
     ],
     "language": "python",
     "metadata": {},
     "outputs": [
      {
       "javascript": [
        "    // We load the d3.js library from the Web.\n",
        "    require.config({paths: {d3: \"http://d3js.org/d3.v3.min\"}});\n",
        "    require([\"d3\"], function(d3) {\n",
        " \n",
        "        var barChartDataSet = [];\n",
        "        \n",
        "        var w = 550,\n",
        "        h = 900;        \n",
        "        \n",
        "        var svg = d3.select(\"#my_chart2\")\n",
        "            .append(\"svg\")\n",
        "            .attr(\"width\", w*2)\n",
        "            .attr(\"height\", h / 2);\n",
        "    \n",
        "        d3.json(\"diccionari_final_pp.json\", function(data) {\n",
        "            processData(data, \"PP\", barChartDataSet);\n",
        "        });\n",
        "        \n",
        "        d3.json(\"diccionari_final_psoe.json\", function(data) {\n",
        "            processData(data, \"PSOE\", barChartDataSet);\n",
        "            barChart(barChartDataSet);\n",
        "        });\n",
        "        \n",
        "        function barChart(data) {            \n",
        "    \n",
        "            var max_n = 0;\n",
        "            for (var i = 0; i < data.length; i++) {\n",
        "                max_n = Math.max(data[i][1], max_n);\n",
        "            }\n",
        "        \n",
        "            var dx = w / max_n;\n",
        "            var sp = 5;\n",
        "            var dy = h / data.length - sp;\n",
        "    \n",
        "            // bars\n",
        "            var bars = svg.selectAll(\".bar\")\n",
        "                .data(data)\n",
        "                .enter()\n",
        "                .append(\"rect\")\n",
        "                .attr(\"class\", function(d, i) {return \"bar\" /* \"bar \" + d[0]; */ })\n",
        "                .attr(\"x\", function(d, i) { if (d[2]==\"PP\") return 0; else return w;})\n",
        "                .attr(\"y\", function(d, i) { if (d[2]==\"PP\") return (dy+sp)*i; else return (dy+sp)*(i-20); })\n",
        "                .attr(\"width\", function(d, i) {return dx*d[1];})\n",
        "                .attr(\"height\", dy)\n",
        "                .style(\"fill\", function(d,i) { if (d[2]==\"PP\") return \"steelblue\"; else return \"red\" });\n",
        "    \n",
        "            // labels\n",
        "            var text = svg.selectAll(\"text\")\n",
        "                .data(data)\n",
        "                .enter()\n",
        "                .append(\"text\")\n",
        "                .attr(\"class\", function(d, i) {return \"label \" + d[0];})\n",
        "                .attr(\"x\", function(d, i) { if (d[2]==\"PP\") return sp; else return sp+w;})\n",
        "                .attr(\"y\", function(d, i) { if (d[2]==\"PP\") return (dy+sp)*i+(2/3)*dy; else return (dy+sp)*(i-20)+(2/3)*dy;})\n",
        "                .attr(\"font-size\", dy + \"px\")\n",
        "                .style(\"font-weight\", \"bold\")\n",
        "                .text( function(d) {return d[0] + \" (\" + (100*d[1]).toFixed(2)  + \"%)\";});\n",
        "        }\n",
        "        \n",
        "    function processData(data, package_name, barChartDataSet) { \n",
        "        \n",
        "        var total = 0;\n",
        "        for (var i = 0; i < data.length; i++) {\n",
        "            total = total + data[i][1];\n",
        "        }\n",
        "\n",
        "        for (var i = 0; i < data.length; i++) { \n",
        "            barChartDataSet.push([data[i][0], data[i][1]/total, package_name]);\n",
        "        }\n",
        "    }        \n",
        "});"
       ],
       "metadata": {},
       "output_type": "display_data",
       "text": [
        "<IPython.core.display.Javascript at 0x150299b0>"
       ]
      }
     ],
     "prompt_number": 18
    },
    {
     "cell_type": "markdown",
     "metadata": {},
     "source": [
      "- Exemple de Bubble Chart ( extret amb modificacions de: http://bl.ocks.org/mbostock/4063269 )"
     ]
    },
    {
     "cell_type": "code",
     "collapsed": false,
     "input": [
      "%%html\n",
      "<style>\n",
      "    text {\n",
      "        font: sans-serif;\n",
      "    }\n",
      "</style>\n",
      "\n",
      "<div id=\"my_first_bubble_chart\"></div>"
     ],
     "language": "python",
     "metadata": {},
     "outputs": [
      {
       "html": [
        "<style>\n",
        "    text {\n",
        "        font: sans-serif;\n",
        "    }\n",
        "</style>\n",
        "\n",
        "<div id=\"my_first_bubble_chart\"></div>"
       ],
       "metadata": {},
       "output_type": "display_data",
       "text": [
        "<IPython.core.display.HTML at 0x3dda9b0>"
       ]
      }
     ],
     "prompt_number": 19
    },
    {
     "cell_type": "code",
     "collapsed": false,
     "input": [
      "%%javascript\n",
      "    // We load the d3.js library from the Web.\n",
      "    require.config({paths: {d3: \"http://d3js.org/d3.v3.min\"}});\n",
      "    require([\"d3\"], function(d3) {\n",
      "\n",
      "    var bubbleChartDataSet = [];\n",
      "\n",
      "    var diameter = 960,\n",
      "        // https://github.com/mbostock/d3/wiki/Ordinal-Scales#categorical-colors\n",
      "        color = d3.scale.category20c();\n",
      "\n",
      "    var bubble = d3.layout.pack()\n",
      "        .sort(\"ascending\") /* \"ascending\", \"descending\", null */\n",
      "        .size([diameter, diameter])\n",
      "        .padding(1.5);\n",
      "\n",
      "    var svg = d3.select(\"#my_first_bubble_chart\").append(\"svg\")\n",
      "        .attr(\"width\", diameter)\n",
      "        .attr(\"height\", diameter)\n",
      "        .attr(\"class\", \"bubble\");\n",
      "        \n",
      "    d3.json(\"diccionari_final_pp.json\", function(data) {\n",
      "        processData(data, \"PP\", bubbleChartDataSet);\n",
      "    });\n",
      "        \n",
      "    d3.json(\"diccionari_final_psoe.json\", function(data) {\n",
      "        processData(data, \"PSOE\", bubbleChartDataSet);\n",
      "        bubbleChart(bubbleChartDataSet);\n",
      "    });\n",
      "        \n",
      "    function bubbleChart(dataSet) {\n",
      "        var node = svg.selectAll(\".node\")\n",
      "          .data(bubble.nodes({children: dataSet})\n",
      "          .filter(function(d) { return !d.children; }))\n",
      "        .enter().append(\"g\")\n",
      "          .attr(\"class\", \"node\")\n",
      "          .attr(\"transform\", function(d) { return \"translate(\" + d.x + \",\" + d.y + \")\"; });\n",
      "\n",
      "        node.append(\"title\")\n",
      "          .text(function(d) { return d.className + \": \" + \"(\" + (100*d.value).toFixed(2) + \"%)\"; });\n",
      "\n",
      "        node.append(\"circle\")\n",
      "          .attr(\"r\", function(d) { return d.r; })\n",
      "          .style(\"fill\", function(d) { if (d.packageName==\"PP\") return \"steelblue\"; else return \"red\" });\n",
      "\n",
      "        node.append(\"text\")\n",
      "          .attr(\"dy\", \".3em\")\n",
      "          .style(\"text-anchor\", \"middle\")\n",
      "          .style(\"font-size\", function(d) { return Math.round(d.r/3)+\"px\"; })\n",
      "          .text(function(d) { return d.className; });\n",
      "    }\n",
      "        \n",
      "    function processData(data, package_name, bubbleChartDataSet) { \n",
      "        \n",
      "        var total = 0;\n",
      "        for (var i = 0; i < data.length; i++) {\n",
      "            total = total + data[i][1];\n",
      "        }\n",
      "\n",
      "        for (var i = 0; i < data.length; i++) { \n",
      "            bubbleChartDataSet.push({packageName: package_name, className: data[i][0], value: data[i][1]/total});\n",
      "        }\n",
      "    }\n",
      "\n",
      "    d3.select(self.frameElement).style(\"height\", diameter + \"px\");\n",
      "});"
     ],
     "language": "python",
     "metadata": {},
     "outputs": [
      {
       "javascript": [
        "    // We load the d3.js library from the Web.\n",
        "    require.config({paths: {d3: \"http://d3js.org/d3.v3.min\"}});\n",
        "    require([\"d3\"], function(d3) {\n",
        "\n",
        "    var bubbleChartDataSet = [];\n",
        "\n",
        "    var diameter = 960,\n",
        "        // https://github.com/mbostock/d3/wiki/Ordinal-Scales#categorical-colors\n",
        "        color = d3.scale.category20c();\n",
        "\n",
        "    var bubble = d3.layout.pack()\n",
        "        .sort(\"ascending\") /* \"ascending\", \"descending\", null */\n",
        "        .size([diameter, diameter])\n",
        "        .padding(1.5);\n",
        "\n",
        "    var svg = d3.select(\"#my_first_bubble_chart\").append(\"svg\")\n",
        "        .attr(\"width\", diameter)\n",
        "        .attr(\"height\", diameter)\n",
        "        .attr(\"class\", \"bubble\");\n",
        "        \n",
        "    d3.json(\"diccionari_final_pp.json\", function(data) {\n",
        "        processData(data, \"PP\", bubbleChartDataSet);\n",
        "    });\n",
        "        \n",
        "    d3.json(\"diccionari_final_psoe.json\", function(data) {\n",
        "        processData(data, \"PSOE\", bubbleChartDataSet);\n",
        "        bubbleChart(bubbleChartDataSet);\n",
        "    });\n",
        "        \n",
        "    function bubbleChart(dataSet) {\n",
        "        var node = svg.selectAll(\".node\")\n",
        "          .data(bubble.nodes({children: dataSet})\n",
        "          .filter(function(d) { return !d.children; }))\n",
        "        .enter().append(\"g\")\n",
        "          .attr(\"class\", \"node\")\n",
        "          .attr(\"transform\", function(d) { return \"translate(\" + d.x + \",\" + d.y + \")\"; });\n",
        "\n",
        "        node.append(\"title\")\n",
        "          .text(function(d) { return d.className + \": \" + \"(\" + (100*d.value).toFixed(2) + \"%)\"; });\n",
        "\n",
        "        node.append(\"circle\")\n",
        "          .attr(\"r\", function(d) { return d.r; })\n",
        "          .style(\"fill\", function(d) { if (d.packageName==\"PP\") return \"steelblue\"; else return \"red\" });\n",
        "\n",
        "        node.append(\"text\")\n",
        "          .attr(\"dy\", \".3em\")\n",
        "          .style(\"text-anchor\", \"middle\")\n",
        "          .style(\"font-size\", function(d) { return Math.round(d.r/3)+\"px\"; })\n",
        "          .text(function(d) { return d.className; });\n",
        "    }\n",
        "        \n",
        "    function processData(data, package_name, bubbleChartDataSet) { \n",
        "        \n",
        "        var total = 0;\n",
        "        for (var i = 0; i < data.length; i++) {\n",
        "            total = total + data[i][1];\n",
        "        }\n",
        "\n",
        "        for (var i = 0; i < data.length; i++) { \n",
        "            bubbleChartDataSet.push({packageName: package_name, className: data[i][0], value: data[i][1]/total});\n",
        "        }\n",
        "    }\n",
        "\n",
        "    d3.select(self.frameElement).style(\"height\", diameter + \"px\");\n",
        "});"
       ],
       "metadata": {},
       "output_type": "display_data",
       "text": [
        "<IPython.core.display.Javascript at 0x3dda6d8>"
       ]
      }
     ],
     "prompt_number": 20
    },
    {
     "cell_type": "code",
     "collapsed": false,
     "input": [],
     "language": "python",
     "metadata": {},
     "outputs": [],
     "prompt_number": 20
    }
   ],
   "metadata": {}
  }
 ]
}