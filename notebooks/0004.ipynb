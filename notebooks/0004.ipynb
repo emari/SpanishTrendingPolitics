{
 "metadata": {
  "name": "",
  "signature": "sha256:80240f093b590bb288dacc37dfa2d8902fb36a0fe08b589f8ad96b422890d825"
 },
 "nbformat": 3,
 "nbformat_minor": 0,
 "worksheets": [
  {
   "cells": [
    {
     "cell_type": "heading",
     "level": 2,
     "metadata": {},
     "source": [
      "Scrapping Twitter data with the API [ from 003_20141016_Scraping ]"
     ]
    },
    {
     "cell_type": "code",
     "collapsed": false,
     "input": [
      "# Posible useful links:\n",
      "\n",
      "# http://tweepy.readthedocs.org/en/v3.3.0/\n",
      "# https://twython.readthedocs.org/en/latest/\n",
      "# https://code.google.com/p/python-twitter/\n",
      "\n",
      "\n",
      "# http://stackoverflow.com/questions/17488527/how-can-i-draw-social-network-of-twitter-users-using-networkx-and-pymongo\n",
      "# https://vimeo.com/53061411\n",
      "\n",
      "# http://adilmoujahid.com/posts/2014/07/twitter-analytics/\n",
      "\n",
      "# http://gephi.github.io/\n",
      "# http://blog.ouseful.info/2011/07/07/visualising-twitter-friend-connections-using-gephi-an-example-using-wireduk-friends-network/"
     ],
     "language": "python",
     "metadata": {},
     "outputs": [],
     "prompt_number": 1
    },
    {
     "cell_type": "code",
     "collapsed": false,
     "input": [
      "import json\n",
      "import tweepy\n",
      "\n",
      "consumer_key = \"8t7oKGCfQmPeG2Bw9vZuBTZ4n\"\n",
      "consumer_secret = \"KET0fngYRo4fmMBEgNjeGjq0MFksiN01nEu4myirrkGRUhJVHG\"\n",
      "\n",
      "access_key = \"13942222-ih74QFGFCuXfSGIS1AGrfIKaBTqb3U0cc8y864FaL\"\n",
      "access_secret = \"iTINaUKxUbdTu3h00eAnjONlKJii1pfR73RlHfqGLRtkP\"\n",
      "\n",
      "#Authentication\n",
      "auth = tweepy.OAuthHandler(consumer_key, consumer_secret)\n",
      "auth.set_access_token(access_key, access_secret)\n",
      "api = tweepy.API(auth)\n",
      "\n",
      "#Do something\n",
      "USER_NAME = \"pablo_fs\"\n",
      "user = api.get_user(id=USER_NAME)"
     ],
     "language": "python",
     "metadata": {},
     "outputs": [
      {
       "output_type": "stream",
       "stream": "stderr",
       "text": [
        "C:\\Users\\pfernandezs\\AppData\\Local\\Continuum\\Anaconda\\lib\\site-packages\\requests\\packages\\urllib3\\util\\ssl_.py:79: InsecurePlatformWarning: A true SSLContext object is not available. This prevents urllib3 from configuring SSL appropriately and may cause certain SSL connections to fail. For more information, see https://urllib3.readthedocs.org/en/latest/security.html#insecureplatformwarning.\n",
        "  InsecurePlatformWarning\n"
       ]
      }
     ],
     "prompt_number": 2
    },
    {
     "cell_type": "code",
     "collapsed": false,
     "input": [
      "# https://urllib3.readthedocs.org/en/latest/security.html#insecureplatformwarning.\n",
      "import ssl\n",
      "\n",
      "# pip install urllib3\n",
      "import urllib3\n",
      "# pip install certifi\n",
      "import certifi\n",
      "\n",
      "http = urllib3.PoolManager(\n",
      "    cert_reqs='CERT_REQUIRED', # Force certificate check.\n",
      "    ca_certs=certifi.where(),  # Path to the Certifi bundle.\n",
      ")\n",
      "\n",
      "# You're ready to make verified HTTPS requests.\n",
      "url_test = 'https://api.twitter.com/oauth/authenticate?oauth_token=' + access_key\n",
      "try:\n",
      "    r = http.request('GET', url_test)\n",
      "except urllib3.exceptions.SSLError as e:\n",
      "    # Handle incorrect certificate error.\n",
      "    print e"
     ],
     "language": "python",
     "metadata": {},
     "outputs": []
    },
    {
     "cell_type": "code",
     "collapsed": false,
     "input": [
      "user._json"
     ],
     "language": "python",
     "metadata": {},
     "outputs": []
    },
    {
     "cell_type": "code",
     "collapsed": false,
     "input": [
      "# Retrieving all the followers\n",
      "import time\n",
      "\n",
      "ids = []\n",
      "for page in tweepy.Cursor(api.followers_ids, screen_name=USER_NAME).pages():\n",
      "    ids.extend(page)\n",
      "    time.sleep(20)  #This should be 60 to avoid limit rates"
     ],
     "language": "python",
     "metadata": {},
     "outputs": [
      {
       "output_type": "stream",
       "stream": "stderr",
       "text": [
        "C:\\Users\\pfernandezs\\AppData\\Local\\Continuum\\Anaconda\\lib\\site-packages\\requests\\packages\\urllib3\\util\\ssl_.py:79: InsecurePlatformWarning: A true SSLContext object is not available. This prevents urllib3 from configuring SSL appropriately and may cause certain SSL connections to fail. For more information, see https://urllib3.readthedocs.org/en/latest/security.html#insecureplatformwarning.\n",
        "  InsecurePlatformWarning\n"
       ]
      }
     ],
     "prompt_number": 9
    },
    {
     "cell_type": "code",
     "collapsed": false,
     "input": [
      "ids"
     ],
     "language": "python",
     "metadata": {},
     "outputs": [
      {
       "metadata": {},
       "output_type": "pyout",
       "prompt_number": 10,
       "text": [
        "[2583803913L,\n",
        " 13905892,\n",
        " 851467464,\n",
        " 561938194,\n",
        " 287585594,\n",
        " 205214403,\n",
        " 13902652,\n",
        " 13905162]"
       ]
      }
     ],
     "prompt_number": 10
    },
    {
     "cell_type": "code",
     "collapsed": false,
     "input": [
      "document={}\n",
      "document['user'] = user.id\n",
      "document['followers'] = ids[:]\n",
      "\n",
      "# Create the connection to MongoDB\n",
      "try:\n",
      "    conn=pymongo.MongoClient()\n",
      "    print \"Connection to Mongo Daemon successful!!!\"\n",
      "except pymongo.errors.ConnectionFailure, e:\n",
      "    print \"Could not connect to MongoDB: %s\" % e \n",
      "\n",
      "db = conn['twitter']\n",
      "collection = db['twitter_users']\n",
      "collection.insert(document)"
     ],
     "language": "python",
     "metadata": {},
     "outputs": []
    },
    {
     "cell_type": "heading",
     "level": 4,
     "metadata": {},
     "source": [
      "Streaming API"
     ]
    },
    {
     "cell_type": "code",
     "collapsed": false,
     "input": [
      "from tweepy import Stream,StreamListener\n",
      "\n",
      "class listener(StreamListener):\n",
      "    def on_data(self, data):\n",
      "        #Beauty print data\n",
      "        parsed = json.loads(data)\n",
      "        print json.dumps(parsed, indent=4, sort_keys=True)\n",
      "        return True\n",
      "    def on_error(self, status):\n",
      "        print status"
     ],
     "language": "python",
     "metadata": {},
     "outputs": [],
     "prompt_number": 11
    },
    {
     "cell_type": "code",
     "collapsed": false,
     "input": [
      "from tweepy import Stream,StreamListener\n",
      "\n",
      "class listener(StreamListener):\n",
      "    def on_data(self, status):\n",
      "        json_data=json.loads(status)\n",
      "        print str(json_data[\"user\"][\"screen_name\"])+' : ' + json_data[\"text\"]\n",
      "        return True\n",
      "    \n",
      "    def on_error(self, status):\n",
      "        print status\n",
      "        \n",
      "# Catch all tweets in Barcelona area and print them\n",
      "twitterStream = Stream(auth, listener()) \n",
      "#twitterStream.filter(track=[\"datascience\"])\n",
      "#Use http://boundingbox.klokantech.com to get the Barcelona bounding box\n",
      "twitterStream.filter(locations=[2.0504377635,41.2787636541,2.3045074059,41.4725622346])"
     ],
     "language": "python",
     "metadata": {},
     "outputs": []
    },
    {
     "cell_type": "code",
     "collapsed": false,
     "input": [],
     "language": "python",
     "metadata": {},
     "outputs": []
    },
    {
     "cell_type": "code",
     "collapsed": false,
     "input": [
      "from tweepy import Stream,StreamListener\n",
      "\n",
      "class listener(StreamListener):\n",
      "    def __init__(self):\n",
      "        super(StreamListener, self).__init__()\n",
      "        try:\n",
      "            self.conn=pymongo.MongoClient()\n",
      "            print \"Connection to Mongo Daemon successful!!!\"\n",
      "        except pymongo.errors.ConnectionFailure, e:\n",
      "            print \"Could not connect to MongoDB: %s\" % e \n",
      "        self.db = conn['twitter_stream']\n",
      "        self.collection = db['tweets']\n",
      "    \n",
      "    def on_data(self, status):\n",
      "        jdata = json.loads(status)\n",
      "        if 'android' in jdata[\"source\"]:\n",
      "            device = \"android\"\n",
      "        else:\n",
      "            device = \"apple\"\n",
      "        document={'text':jdata[\"text\"], 'created':jdata[\"created_at\"], 'screen_name':jdata[\"user\"][\"screen_name\"], 'device':device}        \n",
      "        self.collection.insert(document) \n",
      "        print document\n",
      "        return True\n",
      "    \n",
      "    def on_error(self, status):\n",
      "        print status\n",
      "\n",
      "# Catch all tweets in Barcelona area and print them\n",
      "twitterStream = Stream(auth, listener()) \n",
      "twitterStream.filter(locations=[2.0504377635,41.2787636541,2.3045074059,41.4725622346])"
     ],
     "language": "python",
     "metadata": {},
     "outputs": []
    },
    {
     "cell_type": "code",
     "collapsed": false,
     "input": [
      "#Check captured data\n",
      "try:\n",
      "    conn=pymongo.MongoClient()\n",
      "    print \"Connection to Mongo Daemon successful!!!\"\n",
      "except pymongo.errors.ConnectionFailure, e:\n",
      "    print \"Could not connect to MongoDB: %s\" % e \n",
      "\n",
      "db = conn['twitter_stream']\n",
      "collection = db['tweets']\n",
      "collection.count()\n",
      "for doc in collection.find():\n",
      "    print doc"
     ],
     "language": "python",
     "metadata": {},
     "outputs": []
    }
   ],
   "metadata": {}
  }
 ]
}